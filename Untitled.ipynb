{
 "cells": [
  {
   "cell_type": "code",
   "execution_count": 1,
   "id": "561b443c-62c7-4941-9836-066438ae42c9",
   "metadata": {},
   "outputs": [],
   "source": [
    "from geopy.distance import geodesic"
   ]
  },
  {
   "cell_type": "code",
   "execution_count": 2,
   "id": "a756722f-687d-49bd-bf2f-0e1be439395c",
   "metadata": {},
   "outputs": [],
   "source": [
    "def match_points(array1, array2):\n",
    "  \"\"\"\n",
    "array: lat, lon\n",
    "  \"\"\"\n",
    "  matches = {}\n",
    "  for point1 in array1:\n",
    "    min_distance = float('inf') \n",
    "    for i, point2 in enumerate(array2):\n",
    "      curr_distance = geodesic(point1, point2).km\n",
    "      if curr_distance < min_distance:\n",
    "        min_distance = curr_distance\n",
    "        matches[point1] = point2\n",
    "  return matches"
   ]
  },
  {
   "cell_type": "code",
   "execution_count": 3,
   "id": "f68f55c4-7bd1-4f41-934c-1244387b7c2b",
   "metadata": {},
   "outputs": [
    {
     "name": "stdout",
     "output_type": "stream",
     "text": [
      "Results: {(40.7128, -74.006): (40.65, -73.9499), (34.0522, -118.2437): (34.0585, -118.2426), (41.8781, -87.6298): (41.8818, -87.6278), (31.25649, 120.126668): (37.7749, -122.4194)}\n"
     ]
    }
   ],
   "source": [
    "array1 = [(40.7128, -74.0060), (34.0522, -118.2437), (41.8781, -87.6298), (31.25649, 120.126668)] \n",
    "array2 = [(37.7749, -122.4194), (40.6500, -73.9499), (34.0585,-118.2426), (41.8818, -87.6278)]  \n",
    "\n",
    "\n",
    "matches = match_points(array1, array2)\n",
    "print(f\"Results: {matches}\") \n"
   ]
  }
 ],
 "metadata": {
  "kernelspec": {
   "display_name": "530-1",
   "language": "python",
   "name": "python3"
  },
  "language_info": {
   "codemirror_mode": {
    "name": "ipython",
    "version": 3
   },
   "file_extension": ".py",
   "mimetype": "text/x-python",
   "name": "python",
   "nbconvert_exporter": "python",
   "pygments_lexer": "ipython3",
   "version": "3.13.1"
  }
 },
 "nbformat": 4,
 "nbformat_minor": 5
}
